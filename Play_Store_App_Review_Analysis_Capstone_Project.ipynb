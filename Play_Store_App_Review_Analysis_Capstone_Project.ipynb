{
  "nbformat": 4,
  "nbformat_minor": 0,
  "metadata": {
    "kernelspec": {
      "display_name": "Python 3",
      "language": "python",
      "name": "python3"
    },
    "language_info": {
      "codemirror_mode": {
        "name": "ipython",
        "version": 3
      },
      "file_extension": ".py",
      "mimetype": "text/x-python",
      "name": "python",
      "nbconvert_exporter": "python",
      "pygments_lexer": "ipython3",
      "version": "3.6.6"
    },
    "colab": {
      "name": "Play Store App Review Analysis - Capstone Project.ipynb",
      "provenance": [],
      "include_colab_link": true
    }
  },
  "cells": [
    {
      "cell_type": "markdown",
      "metadata": {
        "id": "view-in-github",
        "colab_type": "text"
      },
      "source": [
        "<a href=\"https://colab.research.google.com/github/shubhamawale/playstore-data-analysis/blob/main/Play_Store_App_Review_Analysis_Capstone_Project.ipynb\" target=\"_parent\"><img src=\"https://colab.research.google.com/assets/colab-badge.svg\" alt=\"Open In Colab\"/></a>"
      ]
    },
    {
      "cell_type": "markdown",
      "metadata": {
        "id": "Y06xIdG26kRF"
      },
      "source": [
        "## <b> The Play Store apps data has enormous potential to drive app-making businesses to success. Actionable insights can be drawn for developers to work on and capture the Android market. </b>\n",
        "\n",
        "## <b> Each app (row) has values for catergory, rating, size, and more. Another dataset contains customer reviews of the android apps.</b>\n",
        "\n",
        "## <b> Explore and analyze the data to discover key factors responsible for app engagement and success. </b>"
      ]
    },
    {
      "cell_type": "code",
      "metadata": {
        "id": "dByMsuzT8Tnw"
      },
      "source": [
        "import pandas as pd\n",
        "import numpy as np\n",
        "import matplotlib.pyplot as plt\n",
        "import seaborn as sns\n",
        "%matplotlib inline"
      ],
      "execution_count": 12,
      "outputs": []
    },
    {
      "cell_type": "code",
      "metadata": {
        "colab": {
          "base_uri": "https://localhost:8080/"
        },
        "id": "ULvuCHXEhh8p",
        "outputId": "c5200776-a0aa-49ec-d680-d3f986b5d828"
      },
      "source": [
        "from google.colab import drive\n",
        "drive.mount('/content/drive')"
      ],
      "execution_count": 13,
      "outputs": [
        {
          "output_type": "stream",
          "text": [
            "Drive already mounted at /content/drive; to attempt to forcibly remount, call drive.mount(\"/content/drive\", force_remount=True).\n"
          ],
          "name": "stdout"
        }
      ]
    },
    {
      "cell_type": "code",
      "metadata": {
        "id": "mUi2b1aDhkbh"
      },
      "source": [
        "# creating dataframe from csv file\n",
        "play_store_data_file_path = '/content/drive/MyDrive/Colab Notebooks/Capstone Project/1st - EDA /Play Store Data.csv'\n",
        "play_store_df = pd.read_csv(play_store_data_file_path)"
      ],
      "execution_count": 14,
      "outputs": []
    },
    {
      "cell_type": "markdown",
      "metadata": {
        "id": "3O_cIuF_ezJF"
      },
      "source": [
        "#**Exploration of Data**"
      ]
    },
    {
      "cell_type": "markdown",
      "metadata": {
        "id": "RXXD2zcF6bZw"
      },
      "source": [
        "**checking first five rows**\n",
        "\n"
      ]
    },
    {
      "cell_type": "code",
      "metadata": {
        "colab": {
          "base_uri": "https://localhost:8080/",
          "height": 287
        },
        "id": "J6IrT2KUiR2p",
        "outputId": "a97a6cc3-80cf-429c-b567-647085e41513"
      },
      "source": [
        "play_store_df.head()"
      ],
      "execution_count": 15,
      "outputs": [
        {
          "output_type": "execute_result",
          "data": {
            "text/html": [
              "<div>\n",
              "<style scoped>\n",
              "    .dataframe tbody tr th:only-of-type {\n",
              "        vertical-align: middle;\n",
              "    }\n",
              "\n",
              "    .dataframe tbody tr th {\n",
              "        vertical-align: top;\n",
              "    }\n",
              "\n",
              "    .dataframe thead th {\n",
              "        text-align: right;\n",
              "    }\n",
              "</style>\n",
              "<table border=\"1\" class=\"dataframe\">\n",
              "  <thead>\n",
              "    <tr style=\"text-align: right;\">\n",
              "      <th></th>\n",
              "      <th>App</th>\n",
              "      <th>Category</th>\n",
              "      <th>Rating</th>\n",
              "      <th>Reviews</th>\n",
              "      <th>Size</th>\n",
              "      <th>Installs</th>\n",
              "      <th>Type</th>\n",
              "      <th>Price</th>\n",
              "      <th>Content Rating</th>\n",
              "      <th>Genres</th>\n",
              "      <th>Last Updated</th>\n",
              "      <th>Current Ver</th>\n",
              "      <th>Android Ver</th>\n",
              "    </tr>\n",
              "  </thead>\n",
              "  <tbody>\n",
              "    <tr>\n",
              "      <th>0</th>\n",
              "      <td>Photo Editor &amp; Candy Camera &amp; Grid &amp; ScrapBook</td>\n",
              "      <td>ART_AND_DESIGN</td>\n",
              "      <td>4.1</td>\n",
              "      <td>159</td>\n",
              "      <td>19M</td>\n",
              "      <td>10,000+</td>\n",
              "      <td>Free</td>\n",
              "      <td>0</td>\n",
              "      <td>Everyone</td>\n",
              "      <td>Art &amp; Design</td>\n",
              "      <td>January 7, 2018</td>\n",
              "      <td>1.0.0</td>\n",
              "      <td>4.0.3 and up</td>\n",
              "    </tr>\n",
              "    <tr>\n",
              "      <th>1</th>\n",
              "      <td>Coloring book moana</td>\n",
              "      <td>ART_AND_DESIGN</td>\n",
              "      <td>3.9</td>\n",
              "      <td>967</td>\n",
              "      <td>14M</td>\n",
              "      <td>500,000+</td>\n",
              "      <td>Free</td>\n",
              "      <td>0</td>\n",
              "      <td>Everyone</td>\n",
              "      <td>Art &amp; Design;Pretend Play</td>\n",
              "      <td>January 15, 2018</td>\n",
              "      <td>2.0.0</td>\n",
              "      <td>4.0.3 and up</td>\n",
              "    </tr>\n",
              "    <tr>\n",
              "      <th>2</th>\n",
              "      <td>U Launcher Lite – FREE Live Cool Themes, Hide ...</td>\n",
              "      <td>ART_AND_DESIGN</td>\n",
              "      <td>4.7</td>\n",
              "      <td>87510</td>\n",
              "      <td>8.7M</td>\n",
              "      <td>5,000,000+</td>\n",
              "      <td>Free</td>\n",
              "      <td>0</td>\n",
              "      <td>Everyone</td>\n",
              "      <td>Art &amp; Design</td>\n",
              "      <td>August 1, 2018</td>\n",
              "      <td>1.2.4</td>\n",
              "      <td>4.0.3 and up</td>\n",
              "    </tr>\n",
              "    <tr>\n",
              "      <th>3</th>\n",
              "      <td>Sketch - Draw &amp; Paint</td>\n",
              "      <td>ART_AND_DESIGN</td>\n",
              "      <td>4.5</td>\n",
              "      <td>215644</td>\n",
              "      <td>25M</td>\n",
              "      <td>50,000,000+</td>\n",
              "      <td>Free</td>\n",
              "      <td>0</td>\n",
              "      <td>Teen</td>\n",
              "      <td>Art &amp; Design</td>\n",
              "      <td>June 8, 2018</td>\n",
              "      <td>Varies with device</td>\n",
              "      <td>4.2 and up</td>\n",
              "    </tr>\n",
              "    <tr>\n",
              "      <th>4</th>\n",
              "      <td>Pixel Draw - Number Art Coloring Book</td>\n",
              "      <td>ART_AND_DESIGN</td>\n",
              "      <td>4.3</td>\n",
              "      <td>967</td>\n",
              "      <td>2.8M</td>\n",
              "      <td>100,000+</td>\n",
              "      <td>Free</td>\n",
              "      <td>0</td>\n",
              "      <td>Everyone</td>\n",
              "      <td>Art &amp; Design;Creativity</td>\n",
              "      <td>June 20, 2018</td>\n",
              "      <td>1.1</td>\n",
              "      <td>4.4 and up</td>\n",
              "    </tr>\n",
              "  </tbody>\n",
              "</table>\n",
              "</div>"
            ],
            "text/plain": [
              "                                                 App  ...   Android Ver\n",
              "0     Photo Editor & Candy Camera & Grid & ScrapBook  ...  4.0.3 and up\n",
              "1                                Coloring book moana  ...  4.0.3 and up\n",
              "2  U Launcher Lite – FREE Live Cool Themes, Hide ...  ...  4.0.3 and up\n",
              "3                              Sketch - Draw & Paint  ...    4.2 and up\n",
              "4              Pixel Draw - Number Art Coloring Book  ...    4.4 and up\n",
              "\n",
              "[5 rows x 13 columns]"
            ]
          },
          "metadata": {
            "tags": []
          },
          "execution_count": 15
        }
      ]
    },
    {
      "cell_type": "markdown",
      "metadata": {
        "id": "RADqvwfu6-1H"
      },
      "source": [
        "**checking last three rows**"
      ]
    },
    {
      "cell_type": "code",
      "metadata": {
        "colab": {
          "base_uri": "https://localhost:8080/",
          "height": 209
        },
        "id": "PvdWl1y8ik-r",
        "outputId": "c3039762-e2f0-4177-8e3e-ade7b1d1bd90"
      },
      "source": [
        "play_store_df.tail(3)"
      ],
      "execution_count": 16,
      "outputs": [
        {
          "output_type": "execute_result",
          "data": {
            "text/html": [
              "<div>\n",
              "<style scoped>\n",
              "    .dataframe tbody tr th:only-of-type {\n",
              "        vertical-align: middle;\n",
              "    }\n",
              "\n",
              "    .dataframe tbody tr th {\n",
              "        vertical-align: top;\n",
              "    }\n",
              "\n",
              "    .dataframe thead th {\n",
              "        text-align: right;\n",
              "    }\n",
              "</style>\n",
              "<table border=\"1\" class=\"dataframe\">\n",
              "  <thead>\n",
              "    <tr style=\"text-align: right;\">\n",
              "      <th></th>\n",
              "      <th>App</th>\n",
              "      <th>Category</th>\n",
              "      <th>Rating</th>\n",
              "      <th>Reviews</th>\n",
              "      <th>Size</th>\n",
              "      <th>Installs</th>\n",
              "      <th>Type</th>\n",
              "      <th>Price</th>\n",
              "      <th>Content Rating</th>\n",
              "      <th>Genres</th>\n",
              "      <th>Last Updated</th>\n",
              "      <th>Current Ver</th>\n",
              "      <th>Android Ver</th>\n",
              "    </tr>\n",
              "  </thead>\n",
              "  <tbody>\n",
              "    <tr>\n",
              "      <th>10838</th>\n",
              "      <td>Parkinson Exercices FR</td>\n",
              "      <td>MEDICAL</td>\n",
              "      <td>NaN</td>\n",
              "      <td>3</td>\n",
              "      <td>9.5M</td>\n",
              "      <td>1,000+</td>\n",
              "      <td>Free</td>\n",
              "      <td>0</td>\n",
              "      <td>Everyone</td>\n",
              "      <td>Medical</td>\n",
              "      <td>January 20, 2017</td>\n",
              "      <td>1.0</td>\n",
              "      <td>2.2 and up</td>\n",
              "    </tr>\n",
              "    <tr>\n",
              "      <th>10839</th>\n",
              "      <td>The SCP Foundation DB fr nn5n</td>\n",
              "      <td>BOOKS_AND_REFERENCE</td>\n",
              "      <td>4.5</td>\n",
              "      <td>114</td>\n",
              "      <td>Varies with device</td>\n",
              "      <td>1,000+</td>\n",
              "      <td>Free</td>\n",
              "      <td>0</td>\n",
              "      <td>Mature 17+</td>\n",
              "      <td>Books &amp; Reference</td>\n",
              "      <td>January 19, 2015</td>\n",
              "      <td>Varies with device</td>\n",
              "      <td>Varies with device</td>\n",
              "    </tr>\n",
              "    <tr>\n",
              "      <th>10840</th>\n",
              "      <td>iHoroscope - 2018 Daily Horoscope &amp; Astrology</td>\n",
              "      <td>LIFESTYLE</td>\n",
              "      <td>4.5</td>\n",
              "      <td>398307</td>\n",
              "      <td>19M</td>\n",
              "      <td>10,000,000+</td>\n",
              "      <td>Free</td>\n",
              "      <td>0</td>\n",
              "      <td>Everyone</td>\n",
              "      <td>Lifestyle</td>\n",
              "      <td>July 25, 2018</td>\n",
              "      <td>Varies with device</td>\n",
              "      <td>Varies with device</td>\n",
              "    </tr>\n",
              "  </tbody>\n",
              "</table>\n",
              "</div>"
            ],
            "text/plain": [
              "                                                 App  ...         Android Ver\n",
              "10838                         Parkinson Exercices FR  ...          2.2 and up\n",
              "10839                  The SCP Foundation DB fr nn5n  ...  Varies with device\n",
              "10840  iHoroscope - 2018 Daily Horoscope & Astrology  ...  Varies with device\n",
              "\n",
              "[3 rows x 13 columns]"
            ]
          },
          "metadata": {
            "tags": []
          },
          "execution_count": 16
        }
      ]
    },
    {
      "cell_type": "markdown",
      "metadata": {
        "id": "MCbUlhyv793S"
      },
      "source": [
        "**Checking the number of all rows and columns**\n"
      ]
    },
    {
      "cell_type": "code",
      "metadata": {
        "colab": {
          "base_uri": "https://localhost:8080/"
        },
        "id": "E7iSL_yIqWjr",
        "outputId": "2341902c-2998-417e-a279-16ea72b4a497"
      },
      "source": [
        "play_store_df.shape"
      ],
      "execution_count": 17,
      "outputs": [
        {
          "output_type": "execute_result",
          "data": {
            "text/plain": [
              "(10841, 13)"
            ]
          },
          "metadata": {
            "tags": []
          },
          "execution_count": 17
        }
      ]
    },
    {
      "cell_type": "markdown",
      "metadata": {
        "id": "-zKU1B398gWg"
      },
      "source": [
        "This play store dataset contain 10841 rows and 13 columns"
      ]
    },
    {
      "cell_type": "markdown",
      "metadata": {
        "id": "pX4Vm5py8FLI"
      },
      "source": [
        "**taking information about the dataset**"
      ]
    },
    {
      "cell_type": "code",
      "metadata": {
        "colab": {
          "base_uri": "https://localhost:8080/"
        },
        "id": "pG8uZMMmi81H",
        "outputId": "c01ecdd5-2efe-45b8-d7bc-d6d6e05c778f"
      },
      "source": [
        "play_store_df.info()"
      ],
      "execution_count": 18,
      "outputs": [
        {
          "output_type": "stream",
          "text": [
            "<class 'pandas.core.frame.DataFrame'>\n",
            "RangeIndex: 10841 entries, 0 to 10840\n",
            "Data columns (total 13 columns):\n",
            " #   Column          Non-Null Count  Dtype  \n",
            "---  ------          --------------  -----  \n",
            " 0   App             10841 non-null  object \n",
            " 1   Category        10841 non-null  object \n",
            " 2   Rating          9367 non-null   float64\n",
            " 3   Reviews         10841 non-null  object \n",
            " 4   Size            10841 non-null  object \n",
            " 5   Installs        10841 non-null  object \n",
            " 6   Type            10840 non-null  object \n",
            " 7   Price           10841 non-null  object \n",
            " 8   Content Rating  10840 non-null  object \n",
            " 9   Genres          10841 non-null  object \n",
            " 10  Last Updated    10841 non-null  object \n",
            " 11  Current Ver     10833 non-null  object \n",
            " 12  Android Ver     10838 non-null  object \n",
            "dtypes: float64(1), object(12)\n",
            "memory usage: 1.1+ MB\n"
          ],
          "name": "stdout"
        }
      ]
    },
    {
      "cell_type": "markdown",
      "metadata": {
        "id": "AiGAJ4Pp81Ay"
      },
      "source": [
        "Dataset have some null values in some columns and many of them has data type of object"
      ]
    },
    {
      "cell_type": "markdown",
      "metadata": {
        "id": "0KUOHGc79aOn"
      },
      "source": [
        "**checking the columns**"
      ]
    },
    {
      "cell_type": "code",
      "metadata": {
        "colab": {
          "base_uri": "https://localhost:8080/"
        },
        "id": "bPsY5saDj-v7",
        "outputId": "a046ca5e-c82e-4cca-a485-f48f9d474e40"
      },
      "source": [
        "play_store_df.columns"
      ],
      "execution_count": 19,
      "outputs": [
        {
          "output_type": "execute_result",
          "data": {
            "text/plain": [
              "Index(['App', 'Category', 'Rating', 'Reviews', 'Size', 'Installs', 'Type',\n",
              "       'Price', 'Content Rating', 'Genres', 'Last Updated', 'Current Ver',\n",
              "       'Android Ver'],\n",
              "      dtype='object')"
            ]
          },
          "metadata": {
            "tags": []
          },
          "execution_count": 19
        }
      ]
    },
    {
      "cell_type": "markdown",
      "metadata": {
        "id": "WwI0tpsZ9rAY"
      },
      "source": [
        "**discribing the dataset**"
      ]
    },
    {
      "cell_type": "code",
      "metadata": {
        "colab": {
          "base_uri": "https://localhost:8080/",
          "height": 295
        },
        "id": "ZcdtOsAQjHhX",
        "outputId": "05f3f0eb-9ba7-44d0-a7c3-970db936812f"
      },
      "source": [
        "play_store_df.describe()"
      ],
      "execution_count": 20,
      "outputs": [
        {
          "output_type": "execute_result",
          "data": {
            "text/html": [
              "<div>\n",
              "<style scoped>\n",
              "    .dataframe tbody tr th:only-of-type {\n",
              "        vertical-align: middle;\n",
              "    }\n",
              "\n",
              "    .dataframe tbody tr th {\n",
              "        vertical-align: top;\n",
              "    }\n",
              "\n",
              "    .dataframe thead th {\n",
              "        text-align: right;\n",
              "    }\n",
              "</style>\n",
              "<table border=\"1\" class=\"dataframe\">\n",
              "  <thead>\n",
              "    <tr style=\"text-align: right;\">\n",
              "      <th></th>\n",
              "      <th>Rating</th>\n",
              "    </tr>\n",
              "  </thead>\n",
              "  <tbody>\n",
              "    <tr>\n",
              "      <th>count</th>\n",
              "      <td>9367.000000</td>\n",
              "    </tr>\n",
              "    <tr>\n",
              "      <th>mean</th>\n",
              "      <td>4.193338</td>\n",
              "    </tr>\n",
              "    <tr>\n",
              "      <th>std</th>\n",
              "      <td>0.537431</td>\n",
              "    </tr>\n",
              "    <tr>\n",
              "      <th>min</th>\n",
              "      <td>1.000000</td>\n",
              "    </tr>\n",
              "    <tr>\n",
              "      <th>25%</th>\n",
              "      <td>4.000000</td>\n",
              "    </tr>\n",
              "    <tr>\n",
              "      <th>50%</th>\n",
              "      <td>4.300000</td>\n",
              "    </tr>\n",
              "    <tr>\n",
              "      <th>75%</th>\n",
              "      <td>4.500000</td>\n",
              "    </tr>\n",
              "    <tr>\n",
              "      <th>max</th>\n",
              "      <td>19.000000</td>\n",
              "    </tr>\n",
              "  </tbody>\n",
              "</table>\n",
              "</div>"
            ],
            "text/plain": [
              "            Rating\n",
              "count  9367.000000\n",
              "mean      4.193338\n",
              "std       0.537431\n",
              "min       1.000000\n",
              "25%       4.000000\n",
              "50%       4.300000\n",
              "75%       4.500000\n",
              "max      19.000000"
            ]
          },
          "metadata": {
            "tags": []
          },
          "execution_count": 20
        }
      ]
    },
    {
      "cell_type": "markdown",
      "metadata": {
        "id": "HHLIxq_H97gz"
      },
      "source": [
        "*   This method shows min, max, mean and other term for only those columns whos type is numeric\n",
        "*   Here we can see max rating is 19 but rating can be only in 1 to 5 so this is a outlier\n",
        "*    so at time of data cleaning we have to remove these outlier\n",
        "\n",
        "\n",
        "\n"
      ]
    },
    {
      "cell_type": "markdown",
      "metadata": {
        "id": "ZUC9HBke_Z8R"
      },
      "source": [
        "**checking box plot for dataset**"
      ]
    },
    {
      "cell_type": "code",
      "metadata": {
        "colab": {
          "base_uri": "https://localhost:8080/",
          "height": 265
        },
        "id": "RfA8llQJf0p-",
        "outputId": "769aa75d-b453-4db4-ddf5-5d00c07a962d"
      },
      "source": [
        "play_store_df.boxplot();"
      ],
      "execution_count": 21,
      "outputs": [
        {
          "output_type": "display_data",
          "data": {
            "image/png": "[encoded data removed]",
            "text/plain": [
              "<Figure size 432x288 with 1 Axes>"
            ]
          },
          "metadata": {
            "tags": [],
            "needs_background": "light"
          }
        }
      ]
    },
    {
      "cell_type": "markdown",
      "metadata": {
        "id": "NBpSJ7wtACuv"
      },
      "source": [
        "**checking random observation** "
      ]
    },
    {
      "cell_type": "code",
      "metadata": {
        "colab": {
          "base_uri": "https://localhost:8080/"
        },
        "id": "FQgRjW1Mk_nO",
        "outputId": "4708a56f-45d5-4ddd-ef00-5f47a19373bf"
      },
      "source": [
        "play_store_df.loc[10000]"
      ],
      "execution_count": 22,
      "outputs": [
        {
          "output_type": "execute_result",
          "data": {
            "text/plain": [
              "App                       Mee-EW\n",
              "Category                   TOOLS\n",
              "Rating                       NaN\n",
              "Reviews                        0\n",
              "Size                         17M\n",
              "Installs                      5+\n",
              "Type                        Free\n",
              "Price                          0\n",
              "Content Rating          Everyone\n",
              "Genres                     Tools\n",
              "Last Updated      August 2, 2018\n",
              "Current Ver                1.0.1\n",
              "Android Ver           4.1 and up\n",
              "Name: 10000, dtype: object"
            ]
          },
          "metadata": {
            "tags": []
          },
          "execution_count": 22
        }
      ]
    },
    {
      "cell_type": "markdown",
      "metadata": {
        "id": "m4zWMKueASCY"
      },
      "source": [
        "*   We know that many of columns data type is object\n",
        "*   For operation we need data in numeric form\n",
        "*   some columns value contains letters in the observation so we have to remove that at the time of data cleaning\n",
        "*   After that we have to convert it into numeric\n",
        "\n",
        "\n",
        "\n"
      ]
    },
    {
      "cell_type": "markdown",
      "metadata": {
        "id": "tcWc6zSLgLCP"
      },
      "source": [
        "# **Data cleaning**"
      ]
    },
    {
      "cell_type": "markdown",
      "metadata": {
        "id": "O_7rsdFBh2Sv"
      },
      "source": [
        "#### **cheking outliear and droping them**"
      ]
    },
    {
      "cell_type": "markdown",
      "metadata": {
        "id": "0IYKQfegCnMX"
      },
      "source": [
        "Checking the ouliear which are greater with th column of rating whos rating is greater than five and we will remove that observation"
      ]
    },
    {
      "cell_type": "code",
      "metadata": {
        "colab": {
          "base_uri": "https://localhost:8080/",
          "height": 80
        },
        "id": "ChtvhGmdpgUt",
        "outputId": "d9151293-f7b2-4acc-825c-070ff99d72ab"
      },
      "source": [
        "play_store_df[play_store_df['Rating']>5]"
      ],
      "execution_count": 23,
      "outputs": [
        {
          "output_type": "execute_result",
          "data": {
            "text/html": [
              "<div>\n",
              "<style scoped>\n",
              "    .dataframe tbody tr th:only-of-type {\n",
              "        vertical-align: middle;\n",
              "    }\n",
              "\n",
              "    .dataframe tbody tr th {\n",
              "        vertical-align: top;\n",
              "    }\n",
              "\n",
              "    .dataframe thead th {\n",
              "        text-align: right;\n",
              "    }\n",
              "</style>\n",
              "<table border=\"1\" class=\"dataframe\">\n",
              "  <thead>\n",
              "    <tr style=\"text-align: right;\">\n",
              "      <th></th>\n",
              "      <th>App</th>\n",
              "      <th>Category</th>\n",
              "      <th>Rating</th>\n",
              "      <th>Reviews</th>\n",
              "      <th>Size</th>\n",
              "      <th>Installs</th>\n",
              "      <th>Type</th>\n",
              "      <th>Price</th>\n",
              "      <th>Content Rating</th>\n",
              "      <th>Genres</th>\n",
              "      <th>Last Updated</th>\n",
              "      <th>Current Ver</th>\n",
              "      <th>Android Ver</th>\n",
              "    </tr>\n",
              "  </thead>\n",
              "  <tbody>\n",
              "    <tr>\n",
              "      <th>10472</th>\n",
              "      <td>Life Made WI-Fi Touchscreen Photo Frame</td>\n",
              "      <td>1.9</td>\n",
              "      <td>19.0</td>\n",
              "      <td>3.0M</td>\n",
              "      <td>1,000+</td>\n",
              "      <td>Free</td>\n",
              "      <td>0</td>\n",
              "      <td>Everyone</td>\n",
              "      <td>NaN</td>\n",
              "      <td>February 11, 2018</td>\n",
              "      <td>1.0.19</td>\n",
              "      <td>4.0 and up</td>\n",
              "      <td>NaN</td>\n",
              "    </tr>\n",
              "  </tbody>\n",
              "</table>\n",
              "</div>"
            ],
            "text/plain": [
              "                                           App Category  ...  Current Ver Android Ver\n",
              "10472  Life Made WI-Fi Touchscreen Photo Frame      1.9  ...   4.0 and up         NaN\n",
              "\n",
              "[1 rows x 13 columns]"
            ]
          },
          "metadata": {
            "tags": []
          },
          "execution_count": 23
        }
      ]
    },
    {
      "cell_type": "code",
      "metadata": {
        "id": "p6QE4arAiGKl"
      },
      "source": [
        "play_store_df.drop(10472, inplace=True)"
      ],
      "execution_count": 24,
      "outputs": []
    },
    {
      "cell_type": "code",
      "metadata": {
        "colab": {
          "base_uri": "https://localhost:8080/",
          "height": 203
        },
        "id": "pxeTJAkeiekH",
        "outputId": "3b7dabca-92ad-4b25-e9af-8346c6784299"
      },
      "source": [
        "play_store_df[10470:10475]"
      ],
      "execution_count": 25,
      "outputs": [
        {
          "output_type": "execute_result",
          "data": {
            "text/html": [
              "<div>\n",
              "<style scoped>\n",
              "    .dataframe tbody tr th:only-of-type {\n",
              "        vertical-align: middle;\n",
              "    }\n",
              "\n",
              "    .dataframe tbody tr th {\n",
              "        vertical-align: top;\n",
              "    }\n",
              "\n",
              "    .dataframe thead th {\n",
              "        text-align: right;\n",
              "    }\n",
              "</style>\n",
              "<table border=\"1\" class=\"dataframe\">\n",
              "  <thead>\n",
              "    <tr style=\"text-align: right;\">\n",
              "      <th></th>\n",
              "      <th>App</th>\n",
              "      <th>Category</th>\n",
              "      <th>Rating</th>\n",
              "      <th>Reviews</th>\n",
              "      <th>Size</th>\n",
              "      <th>Installs</th>\n",
              "      <th>Type</th>\n",
              "      <th>Price</th>\n",
              "      <th>Content Rating</th>\n",
              "      <th>Genres</th>\n",
              "      <th>Last Updated</th>\n",
              "      <th>Current Ver</th>\n",
              "      <th>Android Ver</th>\n",
              "    </tr>\n",
              "  </thead>\n",
              "  <tbody>\n",
              "    <tr>\n",
              "      <th>10470</th>\n",
              "      <td>Jazz Wi-Fi</td>\n",
              "      <td>COMMUNICATION</td>\n",
              "      <td>3.4</td>\n",
              "      <td>49</td>\n",
              "      <td>4.0M</td>\n",
              "      <td>10,000+</td>\n",
              "      <td>Free</td>\n",
              "      <td>0</td>\n",
              "      <td>Everyone</td>\n",
              "      <td>Communication</td>\n",
              "      <td>February 10, 2017</td>\n",
              "      <td>0.1</td>\n",
              "      <td>2.3 and up</td>\n",
              "    </tr>\n",
              "    <tr>\n",
              "      <th>10471</th>\n",
              "      <td>Xposed Wi-Fi-Pwd</td>\n",
              "      <td>PERSONALIZATION</td>\n",
              "      <td>3.5</td>\n",
              "      <td>1042</td>\n",
              "      <td>404k</td>\n",
              "      <td>100,000+</td>\n",
              "      <td>Free</td>\n",
              "      <td>0</td>\n",
              "      <td>Everyone</td>\n",
              "      <td>Personalization</td>\n",
              "      <td>August 5, 2014</td>\n",
              "      <td>3.0.0</td>\n",
              "      <td>4.0.3 and up</td>\n",
              "    </tr>\n",
              "    <tr>\n",
              "      <th>10473</th>\n",
              "      <td>osmino Wi-Fi: free WiFi</td>\n",
              "      <td>TOOLS</td>\n",
              "      <td>4.2</td>\n",
              "      <td>134203</td>\n",
              "      <td>4.1M</td>\n",
              "      <td>10,000,000+</td>\n",
              "      <td>Free</td>\n",
              "      <td>0</td>\n",
              "      <td>Everyone</td>\n",
              "      <td>Tools</td>\n",
              "      <td>August 7, 2018</td>\n",
              "      <td>6.06.14</td>\n",
              "      <td>4.4 and up</td>\n",
              "    </tr>\n",
              "    <tr>\n",
              "      <th>10474</th>\n",
              "      <td>Sat-Fi Voice</td>\n",
              "      <td>COMMUNICATION</td>\n",
              "      <td>3.4</td>\n",
              "      <td>37</td>\n",
              "      <td>14M</td>\n",
              "      <td>1,000+</td>\n",
              "      <td>Free</td>\n",
              "      <td>0</td>\n",
              "      <td>Everyone</td>\n",
              "      <td>Communication</td>\n",
              "      <td>November 21, 2014</td>\n",
              "      <td>2.2.1.5</td>\n",
              "      <td>2.2 and up</td>\n",
              "    </tr>\n",
              "    <tr>\n",
              "      <th>10475</th>\n",
              "      <td>Wi-Fi Visualizer</td>\n",
              "      <td>TOOLS</td>\n",
              "      <td>3.9</td>\n",
              "      <td>132</td>\n",
              "      <td>2.6M</td>\n",
              "      <td>50,000+</td>\n",
              "      <td>Free</td>\n",
              "      <td>0</td>\n",
              "      <td>Everyone</td>\n",
              "      <td>Tools</td>\n",
              "      <td>May 17, 2017</td>\n",
              "      <td>0.0.9</td>\n",
              "      <td>2.3 and up</td>\n",
              "    </tr>\n",
              "  </tbody>\n",
              "</table>\n",
              "</div>"
            ],
            "text/plain": [
              "                           App         Category  ...  Current Ver   Android Ver\n",
              "10470               Jazz Wi-Fi    COMMUNICATION  ...          0.1    2.3 and up\n",
              "10471         Xposed Wi-Fi-Pwd  PERSONALIZATION  ...        3.0.0  4.0.3 and up\n",
              "10473  osmino Wi-Fi: free WiFi            TOOLS  ...      6.06.14    4.4 and up\n",
              "10474             Sat-Fi Voice    COMMUNICATION  ...      2.2.1.5    2.2 and up\n",
              "10475         Wi-Fi Visualizer            TOOLS  ...        0.0.9    2.3 and up\n",
              "\n",
              "[5 rows x 13 columns]"
            ]
          },
          "metadata": {
            "tags": []
          },
          "execution_count": 25
        }
      ]
    },
    {
      "cell_type": "code",
      "metadata": {
        "colab": {
          "base_uri": "https://localhost:8080/",
          "height": 265
        },
        "id": "lXl6HFtDUwzV",
        "outputId": "5ee99f2e-9e9f-478c-c11e-486a27ce7b38"
      },
      "source": [
        "play_store_df.boxplot();"
      ],
      "execution_count": 26,
      "outputs": [
        {
          "output_type": "display_data",
          "data": {
            "image/png": "[encoded data removed]",
            "text/plain": [
              "<Figure size 432x288 with 1 Axes>"
            ]
          },
          "metadata": {
            "tags": [],
            "needs_background": "light"
          }
        }
      ]
    },
    {
      "cell_type": "markdown",
      "metadata": {
        "id": "1WT2bD2IDIe6"
      },
      "source": [
        "So we saw there is only one observation who had rating 19 and its not possible\n",
        "Also we saw that other values are also mismatching so we dropped that row and after that we checked it."
      ]
    },
    {
      "cell_type": "markdown",
      "metadata": {
        "id": "1LvQW6hOj_S9"
      },
      "source": [
        "####**Checking Null values in dataset and performing data manipulation**"
      ]
    },
    {
      "cell_type": "markdown",
      "metadata": {
        "id": "Bd4cnbtME31a"
      },
      "source": [
        "Now we are checking null values from the dataset"
      ]
    },
    {
      "cell_type": "code",
      "metadata": {
        "colab": {
          "base_uri": "https://localhost:8080/"
        },
        "id": "Z1TppdAWklFQ",
        "outputId": "3b94633d-8c9a-4526-8a06-d0efe9197590"
      },
      "source": [
        "play_store_df.isnull().sum()"
      ],
      "execution_count": 27,
      "outputs": [
        {
          "output_type": "execute_result",
          "data": {
            "text/plain": [
              "App                  0\n",
              "Category             0\n",
              "Rating            1474\n",
              "Reviews              0\n",
              "Size                 0\n",
              "Installs             0\n",
              "Type                 1\n",
              "Price                0\n",
              "Content Rating       0\n",
              "Genres               0\n",
              "Last Updated         0\n",
              "Current Ver          8\n",
              "Android Ver          2\n",
              "dtype: int64"
            ]
          },
          "metadata": {
            "tags": []
          },
          "execution_count": 27
        }
      ]
    },
    {
      "cell_type": "markdown",
      "metadata": {
        "id": "QZupnxqBFIM4"
      },
      "source": [
        "*   In the Rating column we got 1474 null values\n",
        "*   In the Type there is 1 null value\n",
        "*   In the Current version 8 values are null\n",
        "*   And in the Android version there are only 2 values are null\n",
        "\n",
        "\n",
        "\n"
      ]
    },
    {
      "cell_type": "markdown",
      "metadata": {
        "id": "o6T9z11Pk3A8"
      },
      "source": [
        "For data cleaning\n",
        "*   In rating we will fill the numerical median value\n",
        "*   In other categorical column we fill the mode of value"
      ]
    },
    {
      "cell_type": "code",
      "metadata": {
        "id": "1mhdvmDQlpU8"
      },
      "source": [
        "play_store_df['Rating'] = play_store_df['Rating'].fillna(play_store_df['Rating'].median()) "
      ],
      "execution_count": 28,
      "outputs": []
    },
    {
      "cell_type": "code",
      "metadata": {
        "id": "Wy9vu6U6n6dY"
      },
      "source": [
        "play_store_df['Type'].fillna(str(play_store_df['Type'].mode()), inplace=True)"
      ],
      "execution_count": 29,
      "outputs": []
    },
    {
      "cell_type": "code",
      "metadata": {
        "id": "OuQCO3-eqxgm"
      },
      "source": [
        "play_store_df['Current Ver'].fillna(str(play_store_df['Current Ver'].mode()), inplace=True)"
      ],
      "execution_count": 30,
      "outputs": []
    },
    {
      "cell_type": "code",
      "metadata": {
        "id": "i6Gh6GJSq7nQ"
      },
      "source": [
        "play_store_df['Android Ver'].fillna(str(play_store_df['Android Ver'].mode()), inplace=True)"
      ],
      "execution_count": 31,
      "outputs": []
    },
    {
      "cell_type": "code",
      "metadata": {
        "colab": {
          "base_uri": "https://localhost:8080/"
        },
        "id": "horEH9tvrF1S",
        "outputId": "7872765e-d8f0-4b8d-9d96-14ac6cacb686"
      },
      "source": [
        "play_store_df.isnull().sum()"
      ],
      "execution_count": 32,
      "outputs": [
        {
          "output_type": "execute_result",
          "data": {
            "text/plain": [
              "App               0\n",
              "Category          0\n",
              "Rating            0\n",
              "Reviews           0\n",
              "Size              0\n",
              "Installs          0\n",
              "Type              0\n",
              "Price             0\n",
              "Content Rating    0\n",
              "Genres            0\n",
              "Last Updated      0\n",
              "Current Ver       0\n",
              "Android Ver       0\n",
              "dtype: int64"
            ]
          },
          "metadata": {
            "tags": []
          },
          "execution_count": 32
        }
      ]
    },
    {
      "cell_type": "markdown",
      "metadata": {
        "id": "hYnZiSLo4_IC"
      },
      "source": [
        "*   Here we fiiled null value of dataset columns and checked it\n",
        "*   Now there are no null values\n",
        "\n",
        "\n"
      ]
    },
    {
      "cell_type": "markdown",
      "metadata": {
        "id": "m5TkiHVAuQAs"
      },
      "source": [
        "#### **converting data into numeric form**"
      ]
    },
    {
      "cell_type": "markdown",
      "metadata": {
        "id": "7R-oup8B6dgS"
      },
      "source": [
        "*   In price column vales contain '$' so we have to remove that\n",
        "*   After that converting it into numeric"
      ]
    },
    {
      "cell_type": "code",
      "metadata": {
        "id": "s7v2C05F0Hqh"
      },
      "source": [
        "play_store_df['Price'] = play_store_df['Price'].apply(lambda x: x.replace('$',''))"
      ],
      "execution_count": 33,
      "outputs": []
    },
    {
      "cell_type": "code",
      "metadata": {
        "id": "CHQfsysY1K4P"
      },
      "source": [
        "play_store_df['Price'] = pd.to_numeric(play_store_df['Price'])"
      ],
      "execution_count": 34,
      "outputs": []
    },
    {
      "cell_type": "markdown",
      "metadata": {
        "id": "4MHJjNJz7IKG"
      },
      "source": [
        "*   Converting reviewa column from object to numeric"
      ]
    },
    {
      "cell_type": "code",
      "metadata": {
        "id": "DBeivwOWXOcy"
      },
      "source": [
        "play_store_df['Reviews'] = pd.to_numeric(play_store_df['Reviews'])"
      ],
      "execution_count": 35,
      "outputs": []
    },
    {
      "cell_type": "markdown",
      "metadata": {
        "id": "KZIzuzk97Yrn"
      },
      "source": [
        "*   To convert install column value into numeric we have to remove '+' and ',' "
      ]
    },
    {
      "cell_type": "code",
      "metadata": {
        "id": "78LjHui1p9Dg"
      },
      "source": [
        "play_store_df['Installs'] = play_store_df['Installs'].apply(lambda x: x.strip('+'))"
      ],
      "execution_count": 36,
      "outputs": []
    },
    {
      "cell_type": "code",
      "metadata": {
        "id": "9sVbwUKdsXAj"
      },
      "source": [
        "play_store_df['Installs'] = pd.to_numeric(play_store_df['Installs'].apply(lambda x: x.replace(',','')))"
      ],
      "execution_count": 37,
      "outputs": []
    },
    {
      "cell_type": "code",
      "metadata": {
        "colab": {
          "base_uri": "https://localhost:8080/"
        },
        "id": "URVcSA1Wrr7I",
        "outputId": "4b981368-61cb-47bb-836c-373471e072c5"
      },
      "source": [
        "play_store_df.info()"
      ],
      "execution_count": 38,
      "outputs": [
        {
          "output_type": "stream",
          "text": [
            "<class 'pandas.core.frame.DataFrame'>\n",
            "Int64Index: 10840 entries, 0 to 10840\n",
            "Data columns (total 13 columns):\n",
            " #   Column          Non-Null Count  Dtype  \n",
            "---  ------          --------------  -----  \n",
            " 0   App             10840 non-null  object \n",
            " 1   Category        10840 non-null  object \n",
            " 2   Rating          10840 non-null  float64\n",
            " 3   Reviews         10840 non-null  int64  \n",
            " 4   Size            10840 non-null  object \n",
            " 5   Installs        10840 non-null  int64  \n",
            " 6   Type            10840 non-null  object \n",
            " 7   Price           10840 non-null  float64\n",
            " 8   Content Rating  10840 non-null  object \n",
            " 9   Genres          10840 non-null  object \n",
            " 10  Last Updated    10840 non-null  object \n",
            " 11  Current Ver     10840 non-null  object \n",
            " 12  Android Ver     10840 non-null  object \n",
            "dtypes: float64(2), int64(2), object(9)\n",
            "memory usage: 1.2+ MB\n"
          ],
          "name": "stdout"
        }
      ]
    },
    {
      "cell_type": "markdown",
      "metadata": {
        "id": "Q-v09rT38G-5"
      },
      "source": [
        "*   So now our necessary columns is converted into numeric\n",
        "\n"
      ]
    },
    {
      "cell_type": "markdown",
      "metadata": {
        "id": "7CPRurkrD-wT"
      },
      "source": [
        "#### **Converting 'Size' column in one unit and numeric**"
      ]
    },
    {
      "cell_type": "markdown",
      "metadata": {
        "id": "f8RGwg1t8y26"
      },
      "source": [
        "*   Checked the duplicate observation and removed them\n",
        "*   First there are 10840 rows now there are 10357\n",
        "*   Now our data set is ready to perform oprations"
      ]
    },
    {
      "cell_type": "markdown",
      "metadata": {
        "id": "qubTwhNBFcxD"
      },
      "source": [
        "**The values in size column is in Kb and Mb so we will convert all them in Mb and after that in numeric form**"
      ]
    },
    {
      "cell_type": "code",
      "metadata": {
        "id": "MwnDp_8-FD2C"
      },
      "source": [
        "play_store_df['Size'] = play_store_df['Size'].apply(lambda x: str(x).replace('Varies with device', 'NaN') if 'Varies with device' in str(x) else x)\n",
        "play_store_df['Size'] = play_store_df['Size'].apply(lambda x: str(x).replace('M', '') if 'M' in str(x) else x)\n",
        "play_store_df['Size'] = play_store_df['Size'].apply(lambda x: str(x).replace(',', '') if 'M' in str(x) else x)\n",
        "play_store_df['Size'] = play_store_df['Size'].apply(lambda x: float(str(x).replace('k', '')) / 1000 if 'k' in str(x) else x)\n",
        "play_store_df['Size'] = play_store_df['Size'].apply(lambda x: float(x))"
      ],
      "execution_count": 39,
      "outputs": []
    },
    {
      "cell_type": "code",
      "metadata": {
        "colab": {
          "base_uri": "https://localhost:8080/"
        },
        "id": "-DmfbKURHNlc",
        "outputId": "4c3f8cfd-1586-4625-e7de-57338b642052"
      },
      "source": [
        "play_store_df.Size.isnull().any()"
      ],
      "execution_count": 40,
      "outputs": [
        {
          "output_type": "execute_result",
          "data": {
            "text/plain": [
              "True"
            ]
          },
          "metadata": {
            "tags": []
          },
          "execution_count": 40
        }
      ]
    },
    {
      "cell_type": "markdown",
      "metadata": {
        "id": "Yw-Q4DxBG_fT"
      },
      "source": [
        "**As we can see there are some null value so we will take median and adjust them**"
      ]
    },
    {
      "cell_type": "code",
      "metadata": {
        "id": "9BBXFoJLHhfI"
      },
      "source": [
        "play_store_df['Size'] = play_store_df['Size'].fillna(play_store_df['Size'].median())"
      ],
      "execution_count": 41,
      "outputs": []
    },
    {
      "cell_type": "code",
      "metadata": {
        "colab": {
          "base_uri": "https://localhost:8080/"
        },
        "id": "G-gNi09kGraq",
        "outputId": "bc68ea4a-8ca0-4a11-a156-481afc136688"
      },
      "source": [
        "play_store_df.Size.isnull().any()"
      ],
      "execution_count": 42,
      "outputs": [
        {
          "output_type": "execute_result",
          "data": {
            "text/plain": [
              "False"
            ]
          },
          "metadata": {
            "tags": []
          },
          "execution_count": 42
        }
      ]
    },
    {
      "cell_type": "markdown",
      "metadata": {
        "id": "-NTCmqLzIFCi"
      },
      "source": [
        "**So now there are no null values all size column values are filled with the median of size column**"
      ]
    },
    {
      "cell_type": "markdown",
      "metadata": {
        "id": "NlPwx9RexFvn"
      },
      "source": [
        "#### **Checking duplicate values in dataset and removing**"
      ]
    },
    {
      "cell_type": "markdown",
      "metadata": {
        "id": "KbPtrapg8mMh"
      },
      "source": [
        "*   Checking duplicate value and removing them"
      ]
    },
    {
      "cell_type": "code",
      "metadata": {
        "colab": {
          "base_uri": "https://localhost:8080/"
        },
        "id": "H0bBuIZVTtKl",
        "outputId": "737e3fad-1033-490d-caf3-4cd4ecd1a836"
      },
      "source": [
        "play_store_df.duplicated().any()"
      ],
      "execution_count": 43,
      "outputs": [
        {
          "output_type": "execute_result",
          "data": {
            "text/plain": [
              "True"
            ]
          },
          "metadata": {
            "tags": []
          },
          "execution_count": 43
        }
      ]
    },
    {
      "cell_type": "code",
      "metadata": {
        "colab": {
          "base_uri": "https://localhost:8080/"
        },
        "id": "83MqHhAAyUMU",
        "outputId": "8d9197b3-b51e-410a-c0a8-4f2b5bed61be"
      },
      "source": [
        "play_store_df[play_store_df.duplicated()].value_counts()"
      ],
      "execution_count": 44,
      "outputs": [
        {
          "output_type": "execute_result",
          "data": {
            "text/plain": [
              "App                                                 Category            Rating  Reviews  Size  Installs   Type  Price  Content Rating  Genres                       Last Updated       Current Ver         Android Ver       \n",
              "eBay: Buy & Sell this Summer - Discover Deals Now!  SHOPPING            4.4     2788923  13.0  100000000  Free  0.0    Teen            Shopping                     July 30, 2018      Varies with device  Varies with device    3\n",
              "CBS Sports App - Scores, News, Stats & Watch Live   SPORTS              4.3     91031    13.0  5000000    Free  0.0    Everyone        Sports                       August 4, 2018     Varies with device  5.0 and up            3\n",
              "Quizlet: Learn Languages & Vocab with Flashcards    EDUCATION           4.6     211856   13.0  10000000   Free  0.0    Everyone        Education                    August 1, 2018     Varies with device  Varies with device    3\n",
              "Skyscanner                                          TRAVEL_AND_LOCAL    4.5     481546   29.0  10000000   Free  0.0    Everyone        Travel & Local               August 6, 2018     5.48                4.4 and up            3\n",
              "Nick                                                ENTERTAINMENT       4.2     123279   25.0  10000000   Free  0.0    Everyone 10+    Entertainment;Music & Video  January 24, 2018   2.0.8               4.4 and up            3\n",
              "                                                                                                                                                                                                                                ..\n",
              "Once - Quality Matches Every day                    DATING              4.4     222888   21.0  1000000    Free  0.0    Mature 17+      Dating                       July 17, 2018      2.45                4.1 and up            1\n",
              "Open Camera                                         PHOTOGRAPHY         4.3     116880   2.0   10000000   Free  0.0    Everyone        Photography                  April 23, 2018     1.43.3              4.0.3 and up          1\n",
              "Orbitz - Hotels, Flights & Package Deals            TRAVEL_AND_LOCAL    4.4     33256    13.0  1000000    Free  0.0    Everyone        Travel & Local               July 31, 2018      Varies with device  Varies with device    1\n",
              "PGA TOUR                                            SPORTS              4.0     11151    52.0  1000000    Free  0.0    Everyone        Sports                       June 27, 2018      2018.6              5.0 and up            1\n",
              "10 Best Foods for You                               HEALTH_AND_FITNESS  4.0     2490     3.8   500000     Free  0.0    Everyone 10+    Health & Fitness             February 17, 2017  1.9                 2.3.3 and up          1\n",
              "Length: 410, dtype: int64"
            ]
          },
          "metadata": {
            "tags": []
          },
          "execution_count": 44
        }
      ]
    },
    {
      "cell_type": "code",
      "metadata": {
        "colab": {
          "base_uri": "https://localhost:8080/"
        },
        "id": "WSsoeRqGUF1m",
        "outputId": "1c274945-bf90-45ba-c9e1-03cbd29f9932"
      },
      "source": [
        "play_store_df.shape"
      ],
      "execution_count": 45,
      "outputs": [
        {
          "output_type": "execute_result",
          "data": {
            "text/plain": [
              "(10840, 13)"
            ]
          },
          "metadata": {
            "tags": []
          },
          "execution_count": 45
        }
      ]
    },
    {
      "cell_type": "code",
      "metadata": {
        "id": "ZWo9q4QPzzIE"
      },
      "source": [
        "play_store_df.drop_duplicates(inplace=True)"
      ],
      "execution_count": 46,
      "outputs": []
    },
    {
      "cell_type": "code",
      "metadata": {
        "colab": {
          "base_uri": "https://localhost:8080/"
        },
        "id": "k7rZ0aLorrzh",
        "outputId": "a6acc82d-6843-4047-9b71-c6d391a79c2b"
      },
      "source": [
        "play_store_df.shape"
      ],
      "execution_count": 47,
      "outputs": [
        {
          "output_type": "execute_result",
          "data": {
            "text/plain": [
              "(10357, 13)"
            ]
          },
          "metadata": {
            "tags": []
          },
          "execution_count": 47
        }
      ]
    },
    {
      "cell_type": "code",
      "metadata": {
        "colab": {
          "base_uri": "https://localhost:8080/"
        },
        "id": "UKVO5n93inBg",
        "outputId": "39f605b1-4dda-48c4-948b-c17a0a8ef61a"
      },
      "source": [
        "play_store_df.info()"
      ],
      "execution_count": 48,
      "outputs": [
        {
          "output_type": "stream",
          "text": [
            "<class 'pandas.core.frame.DataFrame'>\n",
            "Int64Index: 10357 entries, 0 to 10840\n",
            "Data columns (total 13 columns):\n",
            " #   Column          Non-Null Count  Dtype  \n",
            "---  ------          --------------  -----  \n",
            " 0   App             10357 non-null  object \n",
            " 1   Category        10357 non-null  object \n",
            " 2   Rating          10357 non-null  float64\n",
            " 3   Reviews         10357 non-null  int64  \n",
            " 4   Size            10357 non-null  float64\n",
            " 5   Installs        10357 non-null  int64  \n",
            " 6   Type            10357 non-null  object \n",
            " 7   Price           10357 non-null  float64\n",
            " 8   Content Rating  10357 non-null  object \n",
            " 9   Genres          10357 non-null  object \n",
            " 10  Last Updated    10357 non-null  object \n",
            " 11  Current Ver     10357 non-null  object \n",
            " 12  Android Ver     10357 non-null  object \n",
            "dtypes: float64(3), int64(2), object(8)\n",
            "memory usage: 1.1+ MB\n"
          ],
          "name": "stdout"
        }
      ]
    },
    {
      "cell_type": "markdown",
      "metadata": {
        "id": "WNhlNpiD08rw"
      },
      "source": [
        "# **Performing operations, getting insights and making graphs**"
      ]
    },
    {
      "cell_type": "markdown",
      "metadata": {
        "id": "rEVlYdsC38rT"
      },
      "source": [
        "#### **Apps which have more installs by category wise**"
      ]
    },
    {
      "cell_type": "markdown",
      "metadata": {
        "id": "LmBYf9EYMIIK"
      },
      "source": [
        "\n",
        "\n",
        "*   First we check how many unique category are there\n",
        "*   After that we find how much installs are there by category wise\n",
        "*   And we take the graph between category and installs\n",
        "\n"
      ]
    },
    {
      "cell_type": "code",
      "metadata": {
        "colab": {
          "base_uri": "https://localhost:8080/"
        },
        "id": "9kEiaMxPjQmN",
        "outputId": "383f1d0c-b92e-45f7-b6d2-9537f32d8ba7"
      },
      "source": [
        "play_store_df['Category'].nunique()"
      ],
      "execution_count": 49,
      "outputs": [
        {
          "output_type": "execute_result",
          "data": {
            "text/plain": [
              "33"
            ]
          },
          "metadata": {
            "tags": []
          },
          "execution_count": 49
        }
      ]
    },
    {
      "cell_type": "code",
      "metadata": {
        "id": "htImBQnzieFR"
      },
      "source": [
        "catg_wise_install = play_store_df.groupby('Category')['Installs'].sum().reset_index()"
      ],
      "execution_count": 50,
      "outputs": []
    },
    {
      "cell_type": "code",
      "metadata": {
        "colab": {
          "base_uri": "https://localhost:8080/",
          "height": 591
        },
        "id": "cDG9zmMKlph0",
        "outputId": "bf32374f-f0fa-4004-9889-06ca2470eef7"
      },
      "source": [
        "plt.rcParams['figure.figsize'] = (14,7)\n",
        "catg_wise_install.plot.bar(x='Category',y='Installs')\n",
        "plt.xticks(rotation=80)\n",
        "plt.title('Maximum downloaded category of apps')\n",
        "plt.xlabel('App category------>')\n",
        "plt.ylabel('Downloads----->')"
      ],
      "execution_count": 51,
      "outputs": [
        {
          "output_type": "execute_result",
          "data": {
            "text/plain": [
              "Text(0, 0.5, 'Downloads----->')"
            ]
          },
          "metadata": {
            "tags": []
          },
          "execution_count": 51
        },
        {
          "output_type": "display_data",
          "data": {
            "image/png": "[encoded data removed]",
            "text/plain": [
              "<Figure size 1008x504 with 1 Axes>"
            ]
          },
          "metadata": {
            "tags": [],
            "needs_background": "light"
          }
        }
      ]
    },
    {
      "cell_type": "markdown",
      "metadata": {
        "id": "GXYomweb-iwA"
      },
      "source": [
        "*   Here we created graph between th app category and their installs \n",
        "*   So we saw that game, communication have major installs \n",
        "\n"
      ]
    },
    {
      "cell_type": "markdown",
      "metadata": {
        "id": "IhHFo0CH73Jk"
      },
      "source": [
        "#### **Top 20 genres of apps present on play store**"
      ]
    },
    {
      "cell_type": "markdown",
      "metadata": {
        "id": "ZECSjUj4NkT9"
      },
      "source": [
        "\n",
        "\n",
        "*   First we should find the no of apps present in every genres\n",
        "*   Then we will take top 20 apps and their count\n",
        "*   And we will take the graph between genres and their count\n",
        "\n"
      ]
    },
    {
      "cell_type": "code",
      "metadata": {
        "id": "G-50Srpql-44"
      },
      "source": [
        "no_of_app_in_genres = play_store_df.Genres.value_counts(ascending=False).reset_index().rename(columns={'index':'Genres','Genres':'App count'})"
      ],
      "execution_count": 52,
      "outputs": []
    },
    {
      "cell_type": "code",
      "metadata": {
        "colab": {
          "base_uri": "https://localhost:8080/"
        },
        "id": "2f3rBiw85PCt",
        "outputId": "f4af93af-b747-490f-b134-47cff43a9082"
      },
      "source": [
        "no_of_app_in_genres.nunique()"
      ],
      "execution_count": 53,
      "outputs": [
        {
          "output_type": "execute_result",
          "data": {
            "text/plain": [
              "Genres       119\n",
              "App count     62\n",
              "dtype: int64"
            ]
          },
          "metadata": {
            "tags": []
          },
          "execution_count": 53
        }
      ]
    },
    {
      "cell_type": "code",
      "metadata": {
        "colab": {
          "base_uri": "https://localhost:8080/",
          "height": 665
        },
        "id": "A-nDvPb5xP76",
        "outputId": "9bea7b1b-f96c-4521-e760-829c066b99e2"
      },
      "source": [
        "top_20_genres = no_of_app_in_genres.head(20)\n",
        "top_20_genres"
      ],
      "execution_count": 54,
      "outputs": [
        {
          "output_type": "execute_result",
          "data": {
            "text/html": [
              "<div>\n",
              "<style scoped>\n",
              "    .dataframe tbody tr th:only-of-type {\n",
              "        vertical-align: middle;\n",
              "    }\n",
              "\n",
              "    .dataframe tbody tr th {\n",
              "        vertical-align: top;\n",
              "    }\n",
              "\n",
              "    .dataframe thead th {\n",
              "        text-align: right;\n",
              "    }\n",
              "</style>\n",
              "<table border=\"1\" class=\"dataframe\">\n",
              "  <thead>\n",
              "    <tr style=\"text-align: right;\">\n",
              "      <th></th>\n",
              "      <th>Genres</th>\n",
              "      <th>App count</th>\n",
              "    </tr>\n",
              "  </thead>\n",
              "  <tbody>\n",
              "    <tr>\n",
              "      <th>0</th>\n",
              "      <td>Tools</td>\n",
              "      <td>842</td>\n",
              "    </tr>\n",
              "    <tr>\n",
              "      <th>1</th>\n",
              "      <td>Entertainment</td>\n",
              "      <td>588</td>\n",
              "    </tr>\n",
              "    <tr>\n",
              "      <th>2</th>\n",
              "      <td>Education</td>\n",
              "      <td>527</td>\n",
              "    </tr>\n",
              "    <tr>\n",
              "      <th>3</th>\n",
              "      <td>Business</td>\n",
              "      <td>427</td>\n",
              "    </tr>\n",
              "    <tr>\n",
              "      <th>4</th>\n",
              "      <td>Medical</td>\n",
              "      <td>408</td>\n",
              "    </tr>\n",
              "    <tr>\n",
              "      <th>5</th>\n",
              "      <td>Productivity</td>\n",
              "      <td>407</td>\n",
              "    </tr>\n",
              "    <tr>\n",
              "      <th>6</th>\n",
              "      <td>Personalization</td>\n",
              "      <td>388</td>\n",
              "    </tr>\n",
              "    <tr>\n",
              "      <th>7</th>\n",
              "      <td>Lifestyle</td>\n",
              "      <td>372</td>\n",
              "    </tr>\n",
              "    <tr>\n",
              "      <th>8</th>\n",
              "      <td>Communication</td>\n",
              "      <td>366</td>\n",
              "    </tr>\n",
              "    <tr>\n",
              "      <th>9</th>\n",
              "      <td>Sports</td>\n",
              "      <td>364</td>\n",
              "    </tr>\n",
              "    <tr>\n",
              "      <th>10</th>\n",
              "      <td>Finance</td>\n",
              "      <td>360</td>\n",
              "    </tr>\n",
              "    <tr>\n",
              "      <th>11</th>\n",
              "      <td>Action</td>\n",
              "      <td>356</td>\n",
              "    </tr>\n",
              "    <tr>\n",
              "      <th>12</th>\n",
              "      <td>Photography</td>\n",
              "      <td>322</td>\n",
              "    </tr>\n",
              "    <tr>\n",
              "      <th>13</th>\n",
              "      <td>Health &amp; Fitness</td>\n",
              "      <td>306</td>\n",
              "    </tr>\n",
              "    <tr>\n",
              "      <th>14</th>\n",
              "      <td>Social</td>\n",
              "      <td>280</td>\n",
              "    </tr>\n",
              "    <tr>\n",
              "      <th>15</th>\n",
              "      <td>News &amp; Magazines</td>\n",
              "      <td>264</td>\n",
              "    </tr>\n",
              "    <tr>\n",
              "      <th>16</th>\n",
              "      <td>Travel &amp; Local</td>\n",
              "      <td>236</td>\n",
              "    </tr>\n",
              "    <tr>\n",
              "      <th>17</th>\n",
              "      <td>Books &amp; Reference</td>\n",
              "      <td>230</td>\n",
              "    </tr>\n",
              "    <tr>\n",
              "      <th>18</th>\n",
              "      <td>Shopping</td>\n",
              "      <td>224</td>\n",
              "    </tr>\n",
              "    <tr>\n",
              "      <th>19</th>\n",
              "      <td>Arcade</td>\n",
              "      <td>218</td>\n",
              "    </tr>\n",
              "  </tbody>\n",
              "</table>\n",
              "</div>"
            ],
            "text/plain": [
              "               Genres  App count\n",
              "0               Tools        842\n",
              "1       Entertainment        588\n",
              "2           Education        527\n",
              "3            Business        427\n",
              "4             Medical        408\n",
              "5        Productivity        407\n",
              "6     Personalization        388\n",
              "7           Lifestyle        372\n",
              "8       Communication        366\n",
              "9              Sports        364\n",
              "10            Finance        360\n",
              "11             Action        356\n",
              "12        Photography        322\n",
              "13   Health & Fitness        306\n",
              "14             Social        280\n",
              "15   News & Magazines        264\n",
              "16     Travel & Local        236\n",
              "17  Books & Reference        230\n",
              "18           Shopping        224\n",
              "19             Arcade        218"
            ]
          },
          "metadata": {
            "tags": []
          },
          "execution_count": 54
        }
      ]
    },
    {
      "cell_type": "code",
      "metadata": {
        "colab": {
          "base_uri": "https://localhost:8080/",
          "height": 610
        },
        "id": "Cs09KyG45qZv",
        "outputId": "5886747f-0a88-4877-e095-380c27343ed5"
      },
      "source": [
        "# shows how many apps are present in that genres\n",
        "sns.barplot(top_20_genres.Genres,top_20_genres['App count']);\n",
        "plt.xticks(rotation=70)\n",
        "plt.title('Top 20 total available apps belog to genres')\n",
        "plt.xlabel('Genres----->')\n",
        "plt.ylabel('App count----->')\n",
        "# plt.show()"
      ],
      "execution_count": 55,
      "outputs": [
        {
          "output_type": "stream",
          "text": [
            "/usr/local/lib/python3.7/dist-packages/seaborn/_decorators.py:43: FutureWarning: Pass the following variables as keyword args: x, y. From version 0.12, the only valid positional argument will be `data`, and passing other arguments without an explicit keyword will result in an error or misinterpretation.\n",
            "  FutureWarning\n"
          ],
          "name": "stderr"
        },
        {
          "output_type": "execute_result",
          "data": {
            "text/plain": [
              "Text(0, 0.5, 'App count----->')"
            ]
          },
          "metadata": {
            "tags": []
          },
          "execution_count": 55
        },
        {
          "output_type": "display_data",
          "data": {
            "image/png": "[encoded data removed]",
            "text/plain": [
              "<Figure size 1008x504 with 1 Axes>"
            ]
          },
          "metadata": {
            "tags": [],
            "needs_background": "light"
          }
        }
      ]
    },
    {
      "cell_type": "markdown",
      "metadata": {
        "id": "6N3aRFxQOvnA"
      },
      "source": [
        "\n",
        "\n",
        "*   As we can see the graph of genres vs app count\n",
        "*   In the playstore there are maximum tools apps are present\n",
        "*   After that entertainment and education apps are present\n",
        "\n"
      ]
    },
    {
      "cell_type": "markdown",
      "metadata": {
        "id": "BwEcTyWh0LJD"
      },
      "source": [
        "#### **Top 20 genres and their installs**"
      ]
    },
    {
      "cell_type": "code",
      "metadata": {
        "id": "7R6iRUnnFEbL"
      },
      "source": [
        "genres_installs = play_store_df.groupby(play_store_df['Genres'])['Installs'].sum().reset_index()\n",
        "# genres_installs"
      ],
      "execution_count": 56,
      "outputs": []
    },
    {
      "cell_type": "code",
      "metadata": {
        "id": "ZNopkt9K2pKh"
      },
      "source": [
        "top_20_genres_installs = pd.merge(top_20_genres, genres_installs, how='inner', on='Genres' )\n",
        "# top_20_genres_installs"
      ],
      "execution_count": 57,
      "outputs": []
    },
    {
      "cell_type": "code",
      "metadata": {
        "colab": {
          "base_uri": "https://localhost:8080/",
          "height": 614
        },
        "id": "apOZL_a7Glpl",
        "outputId": "2df2f6b8-e97e-4778-8585-ef62beb1240d"
      },
      "source": [
        "sns.barplot(top_20_genres_installs.Genres,top_20_genres_installs.Installs);\n",
        "plt.xticks(rotation=80)\n",
        "plt.title('Top 20 genres wise installs')\n",
        "plt.xlabel('Genres----->')\n",
        "plt.ylabel('Installs----->')"
      ],
      "execution_count": 58,
      "outputs": [
        {
          "output_type": "stream",
          "text": [
            "/usr/local/lib/python3.7/dist-packages/seaborn/_decorators.py:43: FutureWarning: Pass the following variables as keyword args: x, y. From version 0.12, the only valid positional argument will be `data`, and passing other arguments without an explicit keyword will result in an error or misinterpretation.\n",
            "  FutureWarning\n"
          ],
          "name": "stderr"
        },
        {
          "output_type": "execute_result",
          "data": {
            "text/plain": [
              "Text(0, 0.5, 'Installs----->')"
            ]
          },
          "metadata": {
            "tags": []
          },
          "execution_count": 58
        },
        {
          "output_type": "display_data",
          "data": {
            "image/png": "[encoded data removed]",
            "text/plain": [
              "<Figure size 1008x504 with 1 Axes>"
            ]
          },
          "metadata": {
            "tags": [],
            "needs_background": "light"
          }
        }
      ]
    },
    {
      "cell_type": "markdown",
      "metadata": {
        "id": "JwBFCTYZ8bIi"
      },
      "source": [
        "#### **Avarage apps installs by category wise**"
      ]
    },
    {
      "cell_type": "code",
      "metadata": {
        "id": "jIYLXk2q8m-P"
      },
      "source": [
        "avg_app_installs = play_store_df.groupby('Category')['Installs'].agg(np.mean)\n",
        "# avg_app_installs"
      ],
      "execution_count": 59,
      "outputs": []
    },
    {
      "cell_type": "code",
      "metadata": {
        "colab": {
          "base_uri": "https://localhost:8080/",
          "height": 591
        },
        "id": "cRX8GnS-_GmE",
        "outputId": "5d103a9a-c6d1-4771-f1b2-1a53b9fdb71f"
      },
      "source": [
        "plt.plot(avg_app_installs, 'ro' )\n",
        "plt.xticks(rotation=90)\n",
        "plt.title('Avarage of app installs')\n",
        "plt.xlabel('Category')\n",
        "plt.ylabel('installs')"
      ],
      "execution_count": 60,
      "outputs": [
        {
          "output_type": "execute_result",
          "data": {
            "text/plain": [
              "Text(0, 0.5, 'installs')"
            ]
          },
          "metadata": {
            "tags": []
          },
          "execution_count": 60
        },
        {
          "output_type": "display_data",
          "data": {
            "image/png": "[encoded data removed]",
            "text/plain": [
              "<Figure size 1008x504 with 1 Axes>"
            ]
          },
          "metadata": {
            "tags": [],
            "needs_background": "light"
          }
        }
      ]
    },
    {
      "cell_type": "markdown",
      "metadata": {
        "id": "_c08jPnxKJE2"
      },
      "source": [
        "#### **Applications present on play store according to their size**"
      ]
    },
    {
      "cell_type": "code",
      "metadata": {
        "colab": {
          "base_uri": "https://localhost:8080/",
          "height": 458
        },
        "id": "j34YGFo8KXKs",
        "outputId": "abcfe79a-5c09-4ba6-c3fe-37385974cc23"
      },
      "source": [
        "plt.hist(play_store_df['Size'] , color='Pink', edgecolor='White');\n",
        "plt.xlabel(\"Size of application in Mb\")\n",
        "plt.ylabel('Number of applications')\n",
        "plt.title(\"Distribution of Size\")\n",
        "plt.show()\n"
      ],
      "execution_count": 63,
      "outputs": [
        {
          "output_type": "display_data",
          "data": {
            "image/png": "[encoded data removed]",
            "text/plain": [
              "<Figure size 1008x504 with 1 Axes>"
            ]
          },
          "metadata": {
            "tags": [],
            "needs_background": "light"
          }
        }
      ]
    },
    {
      "cell_type": "markdown",
      "metadata": {
        "id": "GagVDekDQnwi"
      },
      "source": [
        "# **Now we will add the User Review csv file**\n",
        "\n",
        "> We will merge the User Review dataframe with our play store dataframe using app column\n"
      ]
    },
    {
      "cell_type": "code",
      "metadata": {
        "colab": {
          "base_uri": "https://localhost:8080/"
        },
        "id": "1ZC3lWZDLQ9p",
        "outputId": "36ea9c9b-dc5f-41cc-81ec-266b0004533e"
      },
      "source": [
        "User_review_play_store_df = pd.read_csv('/content/drive/MyDrive/Colab Notebooks/Capstone Project/1st - EDA /User Reviews.csv')\n",
        "\n",
        "merge_play_store_df = play_store_df.merge(User_review_play_store_df, on='App')\n",
        "\n",
        "merge_play_store_df.columns"
      ],
      "execution_count": 68,
      "outputs": [
        {
          "output_type": "execute_result",
          "data": {
            "text/plain": [
              "Index(['App', 'Category', 'Rating', 'Reviews', 'Size', 'Installs', 'Type',\n",
              "       'Price', 'Content Rating', 'Genres', 'Last Updated', 'Current Ver',\n",
              "       'Android Ver', 'Translated_Review', 'Sentiment', 'Sentiment_Polarity',\n",
              "       'Sentiment_Subjectivity'],\n",
              "      dtype='object')"
            ]
          },
          "metadata": {
            "tags": []
          },
          "execution_count": 68
        }
      ]
    },
    {
      "cell_type": "markdown",
      "metadata": {
        "id": "nPmeqoLWRm2C"
      },
      "source": [
        "**we got four new columns 'Translated_Review', 'Sentiment', 'Sentiment_Polarity','Sentiment_Subjectivity'.**\n",
        "\n",
        "> Sentiment basically determines the attitude or the emotion of the writer, i.e., whether it is positive or negative or neutral. \n",
        "\n",
        "> Sentiment Polarity is float which lies in the range of [-1,1] where 1 means positive statement and -1 means a negative statement.\n",
        "\n",
        "> Sentiment Subjectivity generally refer to personal opinion, emotion or judgment, which lies in the range of [0,1].\n"
      ]
    },
    {
      "cell_type": "markdown",
      "metadata": {
        "id": "bLltV5yKUNy-"
      },
      "source": [
        "#### **Number of installs Sentiment wise according to Genres**\n",
        "\n"
      ]
    },
    {
      "cell_type": "code",
      "metadata": {
        "colab": {
          "base_uri": "https://localhost:8080/"
        },
        "id": "l4oLj5sKQ2mN",
        "outputId": "66a275b0-c593-44a2-e059-d8bfd5793653"
      },
      "source": [
        "category_sentiment = merge_play_store_df.groupby(['Category','Sentiment']).size().reset_index(name='Sentiment Count')\n",
        "print(category_sentiment)\n",
        "\n",
        "category_sentiment['log_sentiment_count'] = np.log2(category_sentiment['Sentiment Count'])"
      ],
      "execution_count": 65,
      "outputs": [
        {
          "output_type": "stream",
          "text": [
            "             Category Sentiment  Sentiment Count\n",
            "0      ART_AND_DESIGN  Negative               61\n",
            "1      ART_AND_DESIGN   Neutral               62\n",
            "2      ART_AND_DESIGN  Positive              259\n",
            "3   AUTO_AND_VEHICLES  Negative               17\n",
            "4   AUTO_AND_VEHICLES   Neutral               36\n",
            "..                ...       ...              ...\n",
            "94      VIDEO_PLAYERS   Neutral               58\n",
            "95      VIDEO_PLAYERS  Positive              190\n",
            "96            WEATHER  Negative               33\n",
            "97            WEATHER   Neutral               35\n",
            "98            WEATHER  Positive              165\n",
            "\n",
            "[99 rows x 3 columns]\n"
          ],
          "name": "stdout"
        }
      ]
    },
    {
      "cell_type": "code",
      "metadata": {
        "id": "CU5L_2eIUiBY",
        "colab": {
          "base_uri": "https://localhost:8080/",
          "height": 690
        },
        "outputId": "cac4a2de-530c-45d2-e102-39dc0b404429"
      },
      "source": [
        "plt.figure(figsize=(16,8))\n",
        "plt.xticks(rotation=90,fontsize=10)\n",
        "plt.xlabel(\"Category\", fontsize=15)\n",
        "plt.ylabel(\"Installs\", fontsize=15)\n",
        "plt.title(\"Number of installs Sentiment wise according to Genres\",fontsize=15)\n",
        "sns.barplot('Category', 'log_sentiment_count', hue='Sentiment', data=category_sentiment);\n"
      ],
      "execution_count": 66,
      "outputs": [
        {
          "output_type": "stream",
          "text": [
            "/usr/local/lib/python3.7/dist-packages/seaborn/_decorators.py:43: FutureWarning: Pass the following variables as keyword args: x, y. From version 0.12, the only valid positional argument will be `data`, and passing other arguments without an explicit keyword will result in an error or misinterpretation.\n",
            "  FutureWarning\n"
          ],
          "name": "stderr"
        },
        {
          "output_type": "display_data",
          "data": {
            "image/png": "[encoded data removed]",
            "text/plain": [
              "<Figure size 1152x576 with 1 Axes>"
            ]
          },
          "metadata": {
            "tags": [],
            "needs_background": "light"
          }
        }
      ]
    },
    {
      "cell_type": "markdown",
      "metadata": {
        "id": "lGmRn_WkGBhE"
      },
      "source": [
        "#### **Subjectivity Graph**"
      ]
    },
    {
      "cell_type": "markdown",
      "metadata": {
        "id": "zm9ogWzpIUDY"
      },
      "source": [
        "**Now from the next graph we can conclude that maximum number of users give reviews according to their experience**"
      ]
    },
    {
      "cell_type": "code",
      "metadata": {
        "id": "StY-q0RKqIXn",
        "colab": {
          "base_uri": "https://localhost:8080/",
          "height": 567
        },
        "outputId": "9a623d46-d2ba-4736-db0a-f26f19933d04"
      },
      "source": [
        "plt.figure(figsize=(18,9))\n",
        "plt.xlabel(\"Subjectivity\")\n",
        "plt.title(\"Distribution of Subjectivity\")\n",
        "plt.hist(merge_play_store_df[merge_play_store_df['Sentiment_Subjectivity'].notnull()]['Sentiment_Subjectivity'] , color='Pink')\n",
        "plt.show()"
      ],
      "execution_count": 69,
      "outputs": [
        {
          "output_type": "display_data",
          "data": {
            "image/png": "[encoded data removed]",
            "text/plain": [
              "<Figure size 1296x648 with 1 Axes>"
            ]
          },
          "metadata": {
            "tags": [],
            "needs_background": "light"
          }
        }
      ]
    },
    {
      "cell_type": "markdown",
      "metadata": {
        "id": "_IS01DafJEZv"
      },
      "source": [
        "# **Conclusion**"
      ]
    },
    {
      "cell_type": "markdown",
      "metadata": {
        "id": "0DORMqAMJPJb"
      },
      "source": [
        "Now after compliting our analysis we cac conclude that\n",
        "\n",
        "*   The game and communication category have maximum installs\n",
        "*   In play store there maximum tool apps are present\n",
        "*   Genres wise their are maximum communication apps have installs\n",
        "*   In avarage app install their are maximum social app have maximum avarage app installs\n",
        "*   Maximum app have 20 MB size\n",
        "*   Users installs the application depends according to previous rating and reviews\n",
        "\n",
        "\n"
      ]
    },
    {
      "cell_type": "code",
      "metadata": {
        "id": "Bm35VLubLsJo"
      },
      "source": [
        ""
      ],
      "execution_count": 67,
      "outputs": []
    }
  ]
}